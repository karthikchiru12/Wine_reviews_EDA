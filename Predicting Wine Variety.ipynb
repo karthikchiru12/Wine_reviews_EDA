{
 "cells": [
  {
   "cell_type": "markdown",
   "metadata": {
    "ExecuteTime": {
     "end_time": "2020-05-09T14:47:00.887234Z",
     "start_time": "2020-05-09T14:47:00.883221Z"
    }
   },
   "source": [
    "<h1 style =\"color:maroon;\">PREDICTING WINE VARIETY</h1>"
   ]
  },
  {
   "cell_type": "markdown",
   "metadata": {},
   "source": [
    "<br>"
   ]
  },
  {
   "cell_type": "markdown",
   "metadata": {},
   "source": [
    "<p style=\"color:indigo;font-size:16px;\"><em>About the dataset :</em></p>"
   ]
  },
  {
   "cell_type": "markdown",
   "metadata": {
    "ExecuteTime": {
     "end_time": "2020-05-09T14:50:15.433004Z",
     "start_time": "2020-05-09T14:50:15.425865Z"
    }
   },
   "source": [
    "<table>\n",
    "<thead>\n",
    "  <tr>\n",
    "    <th>Name</th>\n",
    "    <th>Description</th>\n",
    "  </tr>\n",
    "</thead>\n",
    "<tbody>\n",
    "  <tr>\n",
    "    <td>User name </td>\n",
    "    <td>User_name of the reviewer<br></td>\n",
    "  </tr>\n",
    "  <tr>\n",
    "    <td>Country</td>\n",
    "    <td>The country that the wine is from</td>\n",
    "  </tr>\n",
    "  <tr>\n",
    "    <td>Review_title</td>\n",
    "    <td>The title of the wine review, which often contains the vintage</td>\n",
    "  </tr>\n",
    "  <tr>\n",
    "    <td>Review_description</td>\n",
    "    <td>A verbose review of the wine</td>\n",
    "  </tr>\n",
    "  <tr>\n",
    "    <td>Designation</td>\n",
    "    <td>The vineyard within the winery where the grapes that made the wine are from</td>\n",
    "  </tr>\n",
    "  <tr>\n",
    "    <td>Points</td>\n",
    "    <td>Ratings given by the user. The ratings are between 0 -100</td>\n",
    "  </tr>\n",
    "  <tr>\n",
    "    <td>Price</td>\n",
    "    <td>The cost for a bottle of the wine</td>\n",
    "  </tr>\n",
    "  <tr>\n",
    "    <td>Province</td>\n",
    "    <td>The province or state that the wine is from</td>\n",
    "  </tr>\n",
    "  <tr>\n",
    "    <td>Region_1</td>\n",
    "    <td>The wine-growing area in a province or state (ie Napa)</td>\n",
    "  </tr>\n",
    "  <tr>\n",
    "    <td>Region_2</td>\n",
    "    <td>Sometimes there are more specific regions specified within a wine-growing area (ie Rutherford inside the Napa Valley), but this value can sometimes be blank</td>\n",
    "  </tr>\n",
    "  <tr>\n",
    "    <td>Winery</td>\n",
    "    <td>The winery that made the wine</td>\n",
    "  </tr>\n",
    "  <tr>\n",
    "    <td>Variety</td>\n",
    "    <td>The type of grapes used to make the wine.</td>\n",
    "  </tr>\n",
    "</tbody>\n",
    "</table>"
   ]
  },
  {
   "cell_type": "markdown",
   "metadata": {},
   "source": [
    "<br>"
   ]
  },
  {
   "cell_type": "markdown",
   "metadata": {},
   "source": [
    "<h2 style =\"color:maroon;\">1. Importing the necessary libraries</h2>"
   ]
  },
  {
   "cell_type": "code",
   "execution_count": 134,
   "metadata": {
    "ExecuteTime": {
     "end_time": "2020-05-09T16:41:08.064774Z",
     "start_time": "2020-05-09T16:41:08.057484Z"
    }
   },
   "outputs": [],
   "source": [
    "import pandas as pd\n",
    "import numpy as np\n",
    "import matplotlib.pyplot as plt\n",
    "import seaborn as sns"
   ]
  },
  {
   "cell_type": "markdown",
   "metadata": {},
   "source": [
    "<h2 style =\"color:maroon;\">2. Importing the necessary data</h2>"
   ]
  },
  {
   "cell_type": "code",
   "execution_count": 4,
   "metadata": {
    "ExecuteTime": {
     "end_time": "2020-05-09T14:18:48.947267Z",
     "start_time": "2020-05-09T14:18:48.379834Z"
    }
   },
   "outputs": [],
   "source": [
    "train = pd.read_csv('Data/train.csv')\n",
    "test  = pd.read_csv('Data/test.csv')"
   ]
  },
  {
   "cell_type": "markdown",
   "metadata": {
    "ExecuteTime": {
     "end_time": "2020-05-09T14:19:45.158397Z",
     "start_time": "2020-05-09T14:19:45.153184Z"
    }
   },
   "source": [
    "<p style=\"color:indigo;font-size:16px;\"><em>High-level details about the train</em></p>"
   ]
  },
  {
   "cell_type": "code",
   "execution_count": 6,
   "metadata": {
    "ExecuteTime": {
     "end_time": "2020-05-09T14:20:51.168176Z",
     "start_time": "2020-05-09T14:20:51.029798Z"
    }
   },
   "outputs": [
    {
     "data": {
      "text/html": [
       "<div>\n",
       "<style scoped>\n",
       "    .dataframe tbody tr th:only-of-type {\n",
       "        vertical-align: middle;\n",
       "    }\n",
       "\n",
       "    .dataframe tbody tr th {\n",
       "        vertical-align: top;\n",
       "    }\n",
       "\n",
       "    .dataframe thead th {\n",
       "        text-align: right;\n",
       "    }\n",
       "</style>\n",
       "<table border=\"1\" class=\"dataframe\">\n",
       "  <thead>\n",
       "    <tr style=\"text-align: right;\">\n",
       "      <th></th>\n",
       "      <th>user_name</th>\n",
       "      <th>country</th>\n",
       "      <th>review_title</th>\n",
       "      <th>review_description</th>\n",
       "      <th>designation</th>\n",
       "      <th>points</th>\n",
       "      <th>price</th>\n",
       "      <th>province</th>\n",
       "      <th>region_1</th>\n",
       "      <th>region_2</th>\n",
       "      <th>winery</th>\n",
       "      <th>variety</th>\n",
       "    </tr>\n",
       "  </thead>\n",
       "  <tbody>\n",
       "    <tr>\n",
       "      <th>0</th>\n",
       "      <td>NaN</td>\n",
       "      <td>Australia</td>\n",
       "      <td>Andrew Peace 2007 Peace Family Vineyard Chardo...</td>\n",
       "      <td>Classic Chardonnay aromas of apple, pear and h...</td>\n",
       "      <td>Peace Family Vineyard</td>\n",
       "      <td>83</td>\n",
       "      <td>10.0</td>\n",
       "      <td>Australia Other</td>\n",
       "      <td>South Eastern Australia</td>\n",
       "      <td>NaN</td>\n",
       "      <td>Andrew Peace</td>\n",
       "      <td>Chardonnay</td>\n",
       "    </tr>\n",
       "    <tr>\n",
       "      <th>1</th>\n",
       "      <td>@wawinereport</td>\n",
       "      <td>US</td>\n",
       "      <td>North by Northwest 2014 Red (Columbia Valley (...</td>\n",
       "      <td>This wine is near equal parts Syrah and Merlot...</td>\n",
       "      <td>NaN</td>\n",
       "      <td>89</td>\n",
       "      <td>15.0</td>\n",
       "      <td>Washington</td>\n",
       "      <td>Columbia Valley (WA)</td>\n",
       "      <td>Columbia Valley</td>\n",
       "      <td>North by Northwest</td>\n",
       "      <td>Red Blend</td>\n",
       "    </tr>\n",
       "    <tr>\n",
       "      <th>2</th>\n",
       "      <td>NaN</td>\n",
       "      <td>Italy</td>\n",
       "      <td>Renato Ratti 2007 Conca  (Barolo)</td>\n",
       "      <td>Barolo Conca opens with inky dark concentratio...</td>\n",
       "      <td>Conca</td>\n",
       "      <td>94</td>\n",
       "      <td>80.0</td>\n",
       "      <td>Piedmont</td>\n",
       "      <td>Barolo</td>\n",
       "      <td>NaN</td>\n",
       "      <td>Renato Ratti</td>\n",
       "      <td>Nebbiolo</td>\n",
       "    </tr>\n",
       "    <tr>\n",
       "      <th>3</th>\n",
       "      <td>@vossroger</td>\n",
       "      <td>France</td>\n",
       "      <td>Domaine l'Ancienne Cure 2010 L'Abbaye White (B...</td>\n",
       "      <td>It's impressive what a small addition of Sauvi...</td>\n",
       "      <td>L'Abbaye</td>\n",
       "      <td>87</td>\n",
       "      <td>22.0</td>\n",
       "      <td>Southwest France</td>\n",
       "      <td>Bergerac Sec</td>\n",
       "      <td>NaN</td>\n",
       "      <td>Domaine l'Ancienne Cure</td>\n",
       "      <td>Bordeaux-style White Blend</td>\n",
       "    </tr>\n",
       "    <tr>\n",
       "      <th>4</th>\n",
       "      <td>@vossroger</td>\n",
       "      <td>France</td>\n",
       "      <td>Château du Cèdre 2012 Le Cèdre Vintage Malbec ...</td>\n",
       "      <td>This ripe, sweet wine is rich and full of drie...</td>\n",
       "      <td>Le Cèdre Vintage</td>\n",
       "      <td>88</td>\n",
       "      <td>33.0</td>\n",
       "      <td>France Other</td>\n",
       "      <td>Vin de Liqueur</td>\n",
       "      <td>NaN</td>\n",
       "      <td>Château du Cèdre</td>\n",
       "      <td>Malbec</td>\n",
       "    </tr>\n",
       "  </tbody>\n",
       "</table>\n",
       "</div>"
      ],
      "text/plain": [
       "       user_name    country  \\\n",
       "0            NaN  Australia   \n",
       "1  @wawinereport         US   \n",
       "2            NaN      Italy   \n",
       "3     @vossroger     France   \n",
       "4     @vossroger     France   \n",
       "\n",
       "                                        review_title  \\\n",
       "0  Andrew Peace 2007 Peace Family Vineyard Chardo...   \n",
       "1  North by Northwest 2014 Red (Columbia Valley (...   \n",
       "2                  Renato Ratti 2007 Conca  (Barolo)   \n",
       "3  Domaine l'Ancienne Cure 2010 L'Abbaye White (B...   \n",
       "4  Château du Cèdre 2012 Le Cèdre Vintage Malbec ...   \n",
       "\n",
       "                                  review_description            designation  \\\n",
       "0  Classic Chardonnay aromas of apple, pear and h...  Peace Family Vineyard   \n",
       "1  This wine is near equal parts Syrah and Merlot...                    NaN   \n",
       "2  Barolo Conca opens with inky dark concentratio...                  Conca   \n",
       "3  It's impressive what a small addition of Sauvi...               L'Abbaye   \n",
       "4  This ripe, sweet wine is rich and full of drie...       Le Cèdre Vintage   \n",
       "\n",
       "   points  price          province                 region_1         region_2  \\\n",
       "0      83   10.0   Australia Other  South Eastern Australia              NaN   \n",
       "1      89   15.0        Washington     Columbia Valley (WA)  Columbia Valley   \n",
       "2      94   80.0          Piedmont                   Barolo              NaN   \n",
       "3      87   22.0  Southwest France             Bergerac Sec              NaN   \n",
       "4      88   33.0      France Other           Vin de Liqueur              NaN   \n",
       "\n",
       "                    winery                     variety  \n",
       "0             Andrew Peace                  Chardonnay  \n",
       "1       North by Northwest                   Red Blend  \n",
       "2             Renato Ratti                    Nebbiolo  \n",
       "3  Domaine l'Ancienne Cure  Bordeaux-style White Blend  \n",
       "4         Château du Cèdre                      Malbec  "
      ]
     },
     "execution_count": 6,
     "metadata": {},
     "output_type": "execute_result"
    }
   ],
   "source": [
    "train.head()"
   ]
  },
  {
   "cell_type": "markdown",
   "metadata": {},
   "source": [
    "<p style=\"color:indigo;font-size:16px;\"><em>Dimensions of the train set</em></p>"
   ]
  },
  {
   "cell_type": "code",
   "execution_count": 10,
   "metadata": {
    "ExecuteTime": {
     "end_time": "2020-05-09T14:21:56.574052Z",
     "start_time": "2020-05-09T14:21:56.570472Z"
    }
   },
   "outputs": [
    {
     "name": "stdout",
     "output_type": "stream",
     "text": [
      "Dimensions of the train set : (82657, 12)\n"
     ]
    }
   ],
   "source": [
    "print(\"Dimensions of the train set :\",train.shape)"
   ]
  },
  {
   "cell_type": "markdown",
   "metadata": {},
   "source": [
    "<p style=\"color:indigo;font-size:16px;\"><em>Columns with missing values in train</em></p>"
   ]
  },
  {
   "cell_type": "code",
   "execution_count": 21,
   "metadata": {
    "ExecuteTime": {
     "end_time": "2020-05-09T14:45:00.192274Z",
     "start_time": "2020-05-09T14:45:00.089945Z"
    }
   },
   "outputs": [
    {
     "data": {
      "text/html": [
       "<div>\n",
       "<style scoped>\n",
       "    .dataframe tbody tr th:only-of-type {\n",
       "        vertical-align: middle;\n",
       "    }\n",
       "\n",
       "    .dataframe tbody tr th {\n",
       "        vertical-align: top;\n",
       "    }\n",
       "\n",
       "    .dataframe thead th {\n",
       "        text-align: right;\n",
       "    }\n",
       "</style>\n",
       "<table border=\"1\" class=\"dataframe\">\n",
       "  <thead>\n",
       "    <tr style=\"text-align: right;\">\n",
       "      <th></th>\n",
       "      <th>missing values</th>\n",
       "    </tr>\n",
       "  </thead>\n",
       "  <tbody>\n",
       "    <tr>\n",
       "      <th>user_name</th>\n",
       "      <td>19393</td>\n",
       "    </tr>\n",
       "    <tr>\n",
       "      <th>country</th>\n",
       "      <td>35</td>\n",
       "    </tr>\n",
       "    <tr>\n",
       "      <th>review_title</th>\n",
       "      <td>0</td>\n",
       "    </tr>\n",
       "    <tr>\n",
       "      <th>review_description</th>\n",
       "      <td>0</td>\n",
       "    </tr>\n",
       "    <tr>\n",
       "      <th>designation</th>\n",
       "      <td>23647</td>\n",
       "    </tr>\n",
       "    <tr>\n",
       "      <th>points</th>\n",
       "      <td>0</td>\n",
       "    </tr>\n",
       "    <tr>\n",
       "      <th>price</th>\n",
       "      <td>5569</td>\n",
       "    </tr>\n",
       "    <tr>\n",
       "      <th>province</th>\n",
       "      <td>35</td>\n",
       "    </tr>\n",
       "    <tr>\n",
       "      <th>region_1</th>\n",
       "      <td>12754</td>\n",
       "    </tr>\n",
       "    <tr>\n",
       "      <th>region_2</th>\n",
       "      <td>46708</td>\n",
       "    </tr>\n",
       "    <tr>\n",
       "      <th>winery</th>\n",
       "      <td>0</td>\n",
       "    </tr>\n",
       "    <tr>\n",
       "      <th>variety</th>\n",
       "      <td>0</td>\n",
       "    </tr>\n",
       "  </tbody>\n",
       "</table>\n",
       "</div>"
      ],
      "text/plain": [
       "                    missing values\n",
       "user_name                    19393\n",
       "country                         35\n",
       "review_title                     0\n",
       "review_description               0\n",
       "designation                  23647\n",
       "points                           0\n",
       "price                         5569\n",
       "province                        35\n",
       "region_1                     12754\n",
       "region_2                     46708\n",
       "winery                           0\n",
       "variety                          0"
      ]
     },
     "execution_count": 21,
     "metadata": {},
     "output_type": "execute_result"
    }
   ],
   "source": [
    "missing_meta_train = pd.DataFrame(train.isnull().sum(),columns=['missing values'])\n",
    "missing_meta_train"
   ]
  },
  {
   "cell_type": "markdown",
   "metadata": {
    "ExecuteTime": {
     "end_time": "2020-05-09T14:19:45.158397Z",
     "start_time": "2020-05-09T14:19:45.153184Z"
    }
   },
   "source": [
    "<p style=\"color:indigo;font-size:16px;\"><em>High-level details about the test</em></p>"
   ]
  },
  {
   "cell_type": "code",
   "execution_count": 18,
   "metadata": {
    "ExecuteTime": {
     "end_time": "2020-05-09T14:44:10.879361Z",
     "start_time": "2020-05-09T14:44:10.863779Z"
    }
   },
   "outputs": [
    {
     "data": {
      "text/html": [
       "<div>\n",
       "<style scoped>\n",
       "    .dataframe tbody tr th:only-of-type {\n",
       "        vertical-align: middle;\n",
       "    }\n",
       "\n",
       "    .dataframe tbody tr th {\n",
       "        vertical-align: top;\n",
       "    }\n",
       "\n",
       "    .dataframe thead th {\n",
       "        text-align: right;\n",
       "    }\n",
       "</style>\n",
       "<table border=\"1\" class=\"dataframe\">\n",
       "  <thead>\n",
       "    <tr style=\"text-align: right;\">\n",
       "      <th></th>\n",
       "      <th>user_name</th>\n",
       "      <th>country</th>\n",
       "      <th>review_title</th>\n",
       "      <th>review_description</th>\n",
       "      <th>designation</th>\n",
       "      <th>points</th>\n",
       "      <th>price</th>\n",
       "      <th>province</th>\n",
       "      <th>region_1</th>\n",
       "      <th>region_2</th>\n",
       "      <th>winery</th>\n",
       "    </tr>\n",
       "  </thead>\n",
       "  <tbody>\n",
       "    <tr>\n",
       "      <th>0</th>\n",
       "      <td>@paulgwine</td>\n",
       "      <td>US</td>\n",
       "      <td>Boedecker Cellars 2011 Athena Pinot Noir (Will...</td>\n",
       "      <td>Nicely differentiated from the companion Stewa...</td>\n",
       "      <td>Athena</td>\n",
       "      <td>88</td>\n",
       "      <td>35.0</td>\n",
       "      <td>Oregon</td>\n",
       "      <td>Willamette Valley</td>\n",
       "      <td>Willamette Valley</td>\n",
       "      <td>Boedecker Cellars</td>\n",
       "    </tr>\n",
       "    <tr>\n",
       "      <th>1</th>\n",
       "      <td>@wineschach</td>\n",
       "      <td>Argentina</td>\n",
       "      <td>Mendoza Vineyards 2012 Gran Reserva by Richard...</td>\n",
       "      <td>Charred, smoky, herbal aromas of blackberry tr...</td>\n",
       "      <td>Gran Reserva by Richard Bonvin</td>\n",
       "      <td>90</td>\n",
       "      <td>60.0</td>\n",
       "      <td>Mendoza Province</td>\n",
       "      <td>Mendoza</td>\n",
       "      <td>NaN</td>\n",
       "      <td>Mendoza Vineyards</td>\n",
       "    </tr>\n",
       "    <tr>\n",
       "      <th>2</th>\n",
       "      <td>@vboone</td>\n",
       "      <td>US</td>\n",
       "      <td>Prime 2013 Chardonnay (Coombsville)</td>\n",
       "      <td>Slightly sour and funky in earth, this is a re...</td>\n",
       "      <td>NaN</td>\n",
       "      <td>87</td>\n",
       "      <td>38.0</td>\n",
       "      <td>California</td>\n",
       "      <td>Coombsville</td>\n",
       "      <td>Napa</td>\n",
       "      <td>Prime</td>\n",
       "    </tr>\n",
       "    <tr>\n",
       "      <th>3</th>\n",
       "      <td>@wineschach</td>\n",
       "      <td>Argentina</td>\n",
       "      <td>Bodega Cuarto Dominio 2012 Chento Vineyard Sel...</td>\n",
       "      <td>This concentrated, midnight-black Malbec deliv...</td>\n",
       "      <td>Chento Vineyard Selection</td>\n",
       "      <td>91</td>\n",
       "      <td>20.0</td>\n",
       "      <td>Mendoza Province</td>\n",
       "      <td>Mendoza</td>\n",
       "      <td>NaN</td>\n",
       "      <td>Bodega Cuarto Dominio</td>\n",
       "    </tr>\n",
       "    <tr>\n",
       "      <th>4</th>\n",
       "      <td>@kerinokeefe</td>\n",
       "      <td>Italy</td>\n",
       "      <td>SassodiSole 2012  Brunello di Montalcino</td>\n",
       "      <td>Earthy aromas suggesting grilled porcini, leat...</td>\n",
       "      <td>NaN</td>\n",
       "      <td>90</td>\n",
       "      <td>49.0</td>\n",
       "      <td>Tuscany</td>\n",
       "      <td>Brunello di Montalcino</td>\n",
       "      <td>NaN</td>\n",
       "      <td>SassodiSole</td>\n",
       "    </tr>\n",
       "  </tbody>\n",
       "</table>\n",
       "</div>"
      ],
      "text/plain": [
       "      user_name    country                                       review_title  \\\n",
       "0   @paulgwine          US  Boedecker Cellars 2011 Athena Pinot Noir (Will...   \n",
       "1   @wineschach  Argentina  Mendoza Vineyards 2012 Gran Reserva by Richard...   \n",
       "2       @vboone         US                Prime 2013 Chardonnay (Coombsville)   \n",
       "3   @wineschach  Argentina  Bodega Cuarto Dominio 2012 Chento Vineyard Sel...   \n",
       "4  @kerinokeefe      Italy           SassodiSole 2012  Brunello di Montalcino   \n",
       "\n",
       "                                  review_description  \\\n",
       "0  Nicely differentiated from the companion Stewa...   \n",
       "1  Charred, smoky, herbal aromas of blackberry tr...   \n",
       "2  Slightly sour and funky in earth, this is a re...   \n",
       "3  This concentrated, midnight-black Malbec deliv...   \n",
       "4  Earthy aromas suggesting grilled porcini, leat...   \n",
       "\n",
       "                      designation  points  price          province  \\\n",
       "0                          Athena      88   35.0            Oregon   \n",
       "1  Gran Reserva by Richard Bonvin      90   60.0  Mendoza Province   \n",
       "2                             NaN      87   38.0        California   \n",
       "3       Chento Vineyard Selection      91   20.0  Mendoza Province   \n",
       "4                             NaN      90   49.0           Tuscany   \n",
       "\n",
       "                 region_1           region_2                 winery  \n",
       "0       Willamette Valley  Willamette Valley      Boedecker Cellars  \n",
       "1                 Mendoza                NaN      Mendoza Vineyards  \n",
       "2             Coombsville               Napa                  Prime  \n",
       "3                 Mendoza                NaN  Bodega Cuarto Dominio  \n",
       "4  Brunello di Montalcino                NaN            SassodiSole  "
      ]
     },
     "execution_count": 18,
     "metadata": {},
     "output_type": "execute_result"
    }
   ],
   "source": [
    "test.head()"
   ]
  },
  {
   "cell_type": "markdown",
   "metadata": {},
   "source": [
    "<p style=\"color:indigo;font-size:16px;\"><em>Dimensions of the test set</em></p>"
   ]
  },
  {
   "cell_type": "code",
   "execution_count": 19,
   "metadata": {
    "ExecuteTime": {
     "end_time": "2020-05-09T14:44:29.434046Z",
     "start_time": "2020-05-09T14:44:29.429991Z"
    }
   },
   "outputs": [
    {
     "name": "stdout",
     "output_type": "stream",
     "text": [
      "Dimensions of the test set : (20665, 11)\n"
     ]
    }
   ],
   "source": [
    "print(\"Dimensions of the test set :\",test.shape)"
   ]
  },
  {
   "cell_type": "markdown",
   "metadata": {},
   "source": [
    "<p style=\"color:indigo;font-size:16px;\"><em>Columns with missing values in test</em></p>"
   ]
  },
  {
   "cell_type": "code",
   "execution_count": 22,
   "metadata": {
    "ExecuteTime": {
     "end_time": "2020-05-09T14:45:07.167181Z",
     "start_time": "2020-05-09T14:45:07.148783Z"
    }
   },
   "outputs": [
    {
     "data": {
      "text/html": [
       "<div>\n",
       "<style scoped>\n",
       "    .dataframe tbody tr th:only-of-type {\n",
       "        vertical-align: middle;\n",
       "    }\n",
       "\n",
       "    .dataframe tbody tr th {\n",
       "        vertical-align: top;\n",
       "    }\n",
       "\n",
       "    .dataframe thead th {\n",
       "        text-align: right;\n",
       "    }\n",
       "</style>\n",
       "<table border=\"1\" class=\"dataframe\">\n",
       "  <thead>\n",
       "    <tr style=\"text-align: right;\">\n",
       "      <th></th>\n",
       "      <th>missing values</th>\n",
       "    </tr>\n",
       "  </thead>\n",
       "  <tbody>\n",
       "    <tr>\n",
       "      <th>user_name</th>\n",
       "      <td>4738</td>\n",
       "    </tr>\n",
       "    <tr>\n",
       "      <th>country</th>\n",
       "      <td>4</td>\n",
       "    </tr>\n",
       "    <tr>\n",
       "      <th>review_title</th>\n",
       "      <td>0</td>\n",
       "    </tr>\n",
       "    <tr>\n",
       "      <th>review_description</th>\n",
       "      <td>0</td>\n",
       "    </tr>\n",
       "    <tr>\n",
       "      <th>designation</th>\n",
       "      <td>5989</td>\n",
       "    </tr>\n",
       "    <tr>\n",
       "      <th>points</th>\n",
       "      <td>0</td>\n",
       "    </tr>\n",
       "    <tr>\n",
       "      <th>price</th>\n",
       "      <td>1394</td>\n",
       "    </tr>\n",
       "    <tr>\n",
       "      <th>province</th>\n",
       "      <td>4</td>\n",
       "    </tr>\n",
       "    <tr>\n",
       "      <th>region_1</th>\n",
       "      <td>3314</td>\n",
       "    </tr>\n",
       "    <tr>\n",
       "      <th>region_2</th>\n",
       "      <td>11751</td>\n",
       "    </tr>\n",
       "    <tr>\n",
       "      <th>winery</th>\n",
       "      <td>0</td>\n",
       "    </tr>\n",
       "  </tbody>\n",
       "</table>\n",
       "</div>"
      ],
      "text/plain": [
       "                    missing values\n",
       "user_name                     4738\n",
       "country                          4\n",
       "review_title                     0\n",
       "review_description               0\n",
       "designation                   5989\n",
       "points                           0\n",
       "price                         1394\n",
       "province                         4\n",
       "region_1                      3314\n",
       "region_2                     11751\n",
       "winery                           0"
      ]
     },
     "execution_count": 22,
     "metadata": {},
     "output_type": "execute_result"
    }
   ],
   "source": [
    "missing_meta_test = pd.DataFrame(test.isnull().sum(),columns=['missing values'])\n",
    "missing_meta_test"
   ]
  },
  {
   "cell_type": "markdown",
   "metadata": {},
   "source": [
    "<h2 style =\"color:maroon;\">3. Exploratory data analysis</h2>"
   ]
  },
  {
   "cell_type": "markdown",
   "metadata": {},
   "source": [
    "<h3 style =\"color:darkred;\">3.1 Univariate analysis</h3>"
   ]
  },
  {
   "cell_type": "markdown",
   "metadata": {
    "ExecuteTime": {
     "end_time": "2020-05-09T15:04:00.688035Z",
     "start_time": "2020-05-09T15:04:00.684486Z"
    }
   },
   "source": [
    "<h4 style =\"color:crimson;\">3.1.1 Analyzing country</h4>"
   ]
  },
  {
   "cell_type": "code",
   "execution_count": 34,
   "metadata": {
    "ExecuteTime": {
     "end_time": "2020-05-09T15:41:39.276592Z",
     "start_time": "2020-05-09T15:41:38.862430Z"
    }
   },
   "outputs": [
    {
     "data": {
      "text/plain": [
       "<matplotlib.axes._subplots.AxesSubplot at 0x7f5c0bba1278>"
      ]
     },
     "execution_count": 34,
     "metadata": {},
     "output_type": "execute_result"
    },
    {
     "data": {
      "image/png": "[encoded data removed]",
      "text/plain": [
       "<Figure size 720x720 with 1 Axes>"
      ]
     },
     "metadata": {
      "needs_background": "light"
     },
     "output_type": "display_data"
    }
   ],
   "source": [
    "plt.figure(figsize=(10,10))\n",
    "plt.title(\"Country\")\n",
    "sns.countplot(y=train['country'])"
   ]
  },
  {
   "cell_type": "code",
   "execution_count": 120,
   "metadata": {
    "ExecuteTime": {
     "end_time": "2020-05-09T16:32:27.981200Z",
     "start_time": "2020-05-09T16:32:27.929469Z"
    }
   },
   "outputs": [
    {
     "data": {
      "text/plain": [
       "count     82622\n",
       "unique       38\n",
       "top          US\n",
       "freq      38573\n",
       "Name: country, dtype: object"
      ]
     },
     "execution_count": 120,
     "metadata": {},
     "output_type": "execute_result"
    }
   ],
   "source": [
    "train['country'].describe()"
   ]
  },
  {
   "cell_type": "markdown",
   "metadata": {},
   "source": [
    "<h4 style =\"color:crimson;\">3.1.2 Analyzing Destination</h4>"
   ]
  },
  {
   "cell_type": "code",
   "execution_count": 35,
   "metadata": {
    "ExecuteTime": {
     "end_time": "2020-05-09T15:42:08.002872Z",
     "start_time": "2020-05-09T15:42:07.938684Z"
    }
   },
   "outputs": [
    {
     "data": {
      "text/plain": [
       "count       59010\n",
       "unique      26424\n",
       "top       Reserve\n",
       "freq         1382\n",
       "Name: designation, dtype: object"
      ]
     },
     "execution_count": 35,
     "metadata": {},
     "output_type": "execute_result"
    }
   ],
   "source": [
    "train['designation'].describe()"
   ]
  },
  {
   "cell_type": "markdown",
   "metadata": {
    "ExecuteTime": {
     "end_time": "2020-05-09T15:43:55.676343Z",
     "start_time": "2020-05-09T15:43:55.669863Z"
    }
   },
   "source": [
    "Top 20 designations with their frequency"
   ]
  },
  {
   "cell_type": "code",
   "execution_count": 37,
   "metadata": {
    "ExecuteTime": {
     "end_time": "2020-05-09T15:43:20.598336Z",
     "start_time": "2020-05-09T15:43:20.552095Z"
    }
   },
   "outputs": [
    {
     "data": {
      "text/plain": [
       "Reserve                 1382\n",
       "Estate                   898\n",
       "Reserva                  743\n",
       "Estate Grown             425\n",
       "Riserva                  415\n",
       "Barrel sample            303\n",
       "Dry                      287\n",
       "Brut                     283\n",
       "Brut Rosé                226\n",
       "Estate Bottled           224\n",
       "Vieilles Vignes          217\n",
       "Barrel Sample            198\n",
       "Crianza                  184\n",
       "Gran Reserva             161\n",
       "Old Vine                 153\n",
       "Tradition                150\n",
       "Rosé of                  119\n",
       "Réserve                  103\n",
       "Rosé                      97\n",
       "Bien Nacido Vineyard      96\n",
       "Name: designation, dtype: int64"
      ]
     },
     "execution_count": 37,
     "metadata": {},
     "output_type": "execute_result"
    }
   ],
   "source": [
    "train['designation'].value_counts()[:20]"
   ]
  },
  {
   "cell_type": "markdown",
   "metadata": {},
   "source": [
    "<h4 style =\"color:crimson;\">3.1.3 Analyzing points</h4>"
   ]
  },
  {
   "cell_type": "code",
   "execution_count": 81,
   "metadata": {
    "ExecuteTime": {
     "end_time": "2020-05-09T16:05:18.730097Z",
     "start_time": "2020-05-09T16:05:18.372646Z"
    }
   },
   "outputs": [
    {
     "data": {
      "text/plain": [
       "<matplotlib.axes._subplots.AxesSubplot at 0x7f5bed9fe438>"
      ]
     },
     "execution_count": 81,
     "metadata": {},
     "output_type": "execute_result"
    },
    {
     "data": {
      "image/png": "[encoded data removed]",
      "text/plain": [
       "<Figure size 720x720 with 1 Axes>"
      ]
     },
     "metadata": {
      "needs_background": "light"
     },
     "output_type": "display_data"
    }
   ],
   "source": [
    "plt.figure(figsize=(10,10))\n",
    "plt.title(\"Counts of points\")\n",
    "sns.countplot(train['points'])"
   ]
  },
  {
   "cell_type": "code",
   "execution_count": 41,
   "metadata": {
    "ExecuteTime": {
     "end_time": "2020-05-09T15:46:29.702672Z",
     "start_time": "2020-05-09T15:46:29.694193Z"
    }
   },
   "outputs": [
    {
     "data": {
      "text/plain": [
       "88     10504\n",
       "87     10306\n",
       "90      9929\n",
       "86      7641\n",
       "89      7495\n",
       "91      7421\n",
       "92      6412\n",
       "85      5999\n",
       "93      4522\n",
       "84      4174\n",
       "94      2704\n",
       "83      1951\n",
       "82      1184\n",
       "95      1094\n",
       "81       433\n",
       "96       382\n",
       "80       254\n",
       "97       166\n",
       "98        49\n",
       "99        25\n",
       "100       12\n",
       "Name: points, dtype: int64"
      ]
     },
     "execution_count": 41,
     "metadata": {},
     "output_type": "execute_result"
    }
   ],
   "source": [
    "train['points'].value_counts()"
   ]
  },
  {
   "cell_type": "markdown",
   "metadata": {},
   "source": [
    "<h4 style =\"color:crimson;\">3.1.4 Analyzing price</h4>"
   ]
  },
  {
   "cell_type": "code",
   "execution_count": 80,
   "metadata": {
    "ExecuteTime": {
     "end_time": "2020-05-09T16:04:57.323974Z",
     "start_time": "2020-05-09T16:04:57.022741Z"
    }
   },
   "outputs": [
    {
     "data": {
      "text/plain": [
       "<matplotlib.axes._subplots.AxesSubplot at 0x7f5bec721fd0>"
      ]
     },
     "execution_count": 80,
     "metadata": {},
     "output_type": "execute_result"
    },
    {
     "data": {
      "image/png": "[encoded data removed]",
      "text/plain": [
       "<Figure size 720x432 with 1 Axes>"
      ]
     },
     "metadata": {
      "needs_background": "light"
     },
     "output_type": "display_data"
    }
   ],
   "source": [
    "plt.figure(figsize=(10,6))\n",
    "plt.title(\"Distribution of price\")\n",
    "sns.distplot(train['price'])"
   ]
  },
  {
   "cell_type": "code",
   "execution_count": 52,
   "metadata": {
    "ExecuteTime": {
     "end_time": "2020-05-09T15:49:47.538718Z",
     "start_time": "2020-05-09T15:49:47.516407Z"
    }
   },
   "outputs": [
    {
     "data": {
      "text/plain": [
       "count    77088.000000\n",
       "mean        36.922232\n",
       "std         43.698346\n",
       "min          4.000000\n",
       "25%         18.000000\n",
       "50%         27.000000\n",
       "75%         45.000000\n",
       "max       3300.000000\n",
       "Name: price, dtype: float64"
      ]
     },
     "execution_count": 52,
     "metadata": {},
     "output_type": "execute_result"
    }
   ],
   "source": [
    "train['price'].describe().T"
   ]
  },
  {
   "cell_type": "markdown",
   "metadata": {},
   "source": [
    "<h4 style =\"color:crimson;\">3.1.5 Analyzing province</h4>"
   ]
  },
  {
   "cell_type": "code",
   "execution_count": 54,
   "metadata": {
    "ExecuteTime": {
     "end_time": "2020-05-09T15:51:53.139660Z",
     "start_time": "2020-05-09T15:51:53.093304Z"
    }
   },
   "outputs": [
    {
     "data": {
      "text/plain": [
       "count          82622\n",
       "unique           358\n",
       "top       California\n",
       "freq           25736\n",
       "Name: province, dtype: object"
      ]
     },
     "execution_count": 54,
     "metadata": {},
     "output_type": "execute_result"
    }
   ],
   "source": [
    "train['province'].describe()"
   ]
  },
  {
   "cell_type": "markdown",
   "metadata": {},
   "source": [
    "Top 20 provinces with frequency"
   ]
  },
  {
   "cell_type": "code",
   "execution_count": 63,
   "metadata": {
    "ExecuteTime": {
     "end_time": "2020-05-09T15:54:59.281866Z",
     "start_time": "2020-05-09T15:54:59.264599Z"
    }
   },
   "outputs": [
    {
     "data": {
      "text/plain": [
       "California            25736\n",
       "Washington             6060\n",
       "Bordeaux               4690\n",
       "Oregon                 3900\n",
       "Tuscany                3780\n",
       "Burgundy               3179\n",
       "Mendoza Province       2287\n",
       "Piedmont               2226\n",
       "New York               1978\n",
       "Alsace                 1664\n",
       "Northern Spain         1448\n",
       "Champagne              1300\n",
       "Loire Valley           1026\n",
       "Provence                956\n",
       "Douro                   951\n",
       "Northeastern Italy      907\n",
       "Southwest France        852\n",
       "Mosel                   834\n",
       "Beaujolais              834\n",
       "Catalonia               794\n",
       "Name: province, dtype: int64"
      ]
     },
     "execution_count": 63,
     "metadata": {},
     "output_type": "execute_result"
    }
   ],
   "source": [
    "train['province'].value_counts()[:20]"
   ]
  },
  {
   "cell_type": "markdown",
   "metadata": {
    "ExecuteTime": {
     "end_time": "2020-05-09T15:56:19.292478Z",
     "start_time": "2020-05-09T15:56:19.284396Z"
    }
   },
   "source": [
    "<h4 style =\"color:crimson;\">3.1.6 Analyzing region_1</h4>"
   ]
  },
  {
   "cell_type": "code",
   "execution_count": 66,
   "metadata": {
    "ExecuteTime": {
     "end_time": "2020-05-09T15:56:46.241359Z",
     "start_time": "2020-05-09T15:56:46.215538Z"
    }
   },
   "outputs": [
    {
     "data": {
      "text/plain": [
       "count           69903\n",
       "unique           1019\n",
       "top       Napa Valley\n",
       "freq             3334\n",
       "Name: region_1, dtype: object"
      ]
     },
     "execution_count": 66,
     "metadata": {},
     "output_type": "execute_result"
    }
   ],
   "source": [
    "train['region_1'].describe()"
   ]
  },
  {
   "cell_type": "markdown",
   "metadata": {},
   "source": [
    "Top 20 region_1 with thier frequency"
   ]
  },
  {
   "cell_type": "code",
   "execution_count": 67,
   "metadata": {
    "ExecuteTime": {
     "end_time": "2020-05-09T15:57:22.635925Z",
     "start_time": "2020-05-09T15:57:22.621425Z"
    }
   },
   "outputs": [
    {
     "data": {
      "text/plain": [
       "Napa Valley                3334\n",
       "Columbia Valley (WA)       2951\n",
       "Russian River Valley       2362\n",
       "California                 1902\n",
       "Willamette Valley          1739\n",
       "Mendoza                    1584\n",
       "Alsace                     1445\n",
       "Paso Robles                1376\n",
       "Champagne                  1300\n",
       "Barolo                     1293\n",
       "Sonoma Coast               1188\n",
       "Finger Lakes               1167\n",
       "Sonoma County               917\n",
       "Toscana                     860\n",
       "Chianti Classico            836\n",
       "Carneros                    796\n",
       "Sta. Rita Hills             768\n",
       "Walla Walla Valley (WA)     748\n",
       "Brunello di Montalcino      663\n",
       "Rioja                       663\n",
       "Name: region_1, dtype: int64"
      ]
     },
     "execution_count": 67,
     "metadata": {},
     "output_type": "execute_result"
    }
   ],
   "source": [
    "train['region_1'].value_counts()[:20]"
   ]
  },
  {
   "cell_type": "markdown",
   "metadata": {
    "ExecuteTime": {
     "end_time": "2020-05-09T15:56:19.292478Z",
     "start_time": "2020-05-09T15:56:19.284396Z"
    }
   },
   "source": [
    "<h4 style =\"color:crimson;\">3.1.7 Analyzing region_2</h4>"
   ]
  },
  {
   "cell_type": "code",
   "execution_count": 68,
   "metadata": {
    "ExecuteTime": {
     "end_time": "2020-05-09T15:58:09.917301Z",
     "start_time": "2020-05-09T15:58:09.881720Z"
    }
   },
   "outputs": [
    {
     "data": {
      "text/plain": [
       "count             35949\n",
       "unique               17\n",
       "top       Central Coast\n",
       "freq               7503\n",
       "Name: region_2, dtype: object"
      ]
     },
     "execution_count": 68,
     "metadata": {},
     "output_type": "execute_result"
    }
   ],
   "source": [
    "train['region_2'].describe()"
   ]
  },
  {
   "cell_type": "markdown",
   "metadata": {},
   "source": [
    "region_1`s with thier frequency"
   ]
  },
  {
   "cell_type": "code",
   "execution_count": 70,
   "metadata": {
    "ExecuteTime": {
     "end_time": "2020-05-09T15:58:23.339097Z",
     "start_time": "2020-05-09T15:58:23.324467Z"
    }
   },
   "outputs": [
    {
     "data": {
      "text/plain": [
       "Central Coast        7503\n",
       "Sonoma               6776\n",
       "Columbia Valley      5679\n",
       "Napa                 5119\n",
       "Willamette Valley    2605\n",
       "California Other     1926\n",
       "Finger Lakes         1314\n",
       "Napa-Sonoma           919\n",
       "Sierra Foothills      772\n",
       "Central Valley        641\n",
       "Southern Oregon       548\n",
       "Oregon Other          519\n",
       "Long Island           503\n",
       "North Coast           411\n",
       "Washington Other      380\n",
       "South Coast           173\n",
       "New York Other        161\n",
       "Name: region_2, dtype: int64"
      ]
     },
     "execution_count": 70,
     "metadata": {},
     "output_type": "execute_result"
    }
   ],
   "source": [
    "train['region_2'].value_counts()"
   ]
  },
  {
   "cell_type": "markdown",
   "metadata": {},
   "source": [
    "<h4 style =\"color:crimson;\">3.1.8 Analyzing winery</h4>"
   ]
  },
  {
   "cell_type": "code",
   "execution_count": 72,
   "metadata": {
    "ExecuteTime": {
     "end_time": "2020-05-09T15:59:57.581265Z",
     "start_time": "2020-05-09T15:59:57.530031Z"
    }
   },
   "outputs": [
    {
     "data": {
      "text/plain": [
       "count          82657\n",
       "unique         13786\n",
       "top       Testarossa\n",
       "freq             175\n",
       "Name: winery, dtype: object"
      ]
     },
     "execution_count": 72,
     "metadata": {},
     "output_type": "execute_result"
    }
   ],
   "source": [
    "train['winery'].describe()"
   ]
  },
  {
   "cell_type": "markdown",
   "metadata": {},
   "source": [
    "Top 20 winery with thier frequency"
   ]
  },
  {
   "cell_type": "code",
   "execution_count": 73,
   "metadata": {
    "ExecuteTime": {
     "end_time": "2020-05-09T16:01:09.695431Z",
     "start_time": "2020-05-09T16:01:09.667109Z"
    }
   },
   "outputs": [
    {
     "data": {
      "text/plain": [
       "Testarossa                    175\n",
       "Louis Latour                  168\n",
       "Williams Selyem               165\n",
       "Georges Duboeuf               163\n",
       "Chateau Ste. Michelle         163\n",
       "Wines & Winemakers            142\n",
       "DFJ Vinhos                    131\n",
       "Columbia Crest                112\n",
       "Concha y Toro                 112\n",
       "Kendall-Jackson               100\n",
       "Siduri                         99\n",
       "Gary Farrell                   98\n",
       "Lynmar                         98\n",
       "Albert Bichot                  94\n",
       "Jean-Luc and Paul Aegerter     92\n",
       "Montes                         90\n",
       "Chanson Père et Fils           89\n",
       "Henri de Villamont             85\n",
       "Martin Ray                     85\n",
       "Fess Parker                    85\n",
       "Name: winery, dtype: int64"
      ]
     },
     "execution_count": 73,
     "metadata": {},
     "output_type": "execute_result"
    }
   ],
   "source": [
    "train['winery'].value_counts()[:20]"
   ]
  },
  {
   "cell_type": "markdown",
   "metadata": {
    "ExecuteTime": {
     "end_time": "2020-05-09T16:01:40.286269Z",
     "start_time": "2020-05-09T16:01:40.280549Z"
    }
   },
   "source": [
    "<h4 style =\"color:crimson;\">3.1.9 Analyzing variety (target)</h4>"
   ]
  },
  {
   "cell_type": "code",
   "execution_count": 75,
   "metadata": {
    "ExecuteTime": {
     "end_time": "2020-05-09T16:02:30.646321Z",
     "start_time": "2020-05-09T16:02:30.598741Z"
    }
   },
   "outputs": [
    {
     "data": {
      "text/plain": [
       "count          82657\n",
       "unique            28\n",
       "top       Pinot Noir\n",
       "freq           10587\n",
       "Name: variety, dtype: object"
      ]
     },
     "execution_count": 75,
     "metadata": {},
     "output_type": "execute_result"
    }
   ],
   "source": [
    "train['variety'].describe()"
   ]
  },
  {
   "cell_type": "code",
   "execution_count": 82,
   "metadata": {
    "ExecuteTime": {
     "end_time": "2020-05-09T16:05:42.513779Z",
     "start_time": "2020-05-09T16:05:42.159200Z"
    }
   },
   "outputs": [
    {
     "data": {
      "text/plain": [
       "<matplotlib.axes._subplots.AxesSubplot at 0x7f5bf0084eb8>"
      ]
     },
     "execution_count": 82,
     "metadata": {},
     "output_type": "execute_result"
    },
    {
     "data": {
      "image/png": "[encoded data removed]",
      "text/plain": [
       "<Figure size 720x576 with 1 Axes>"
      ]
     },
     "metadata": {
      "needs_background": "light"
     },
     "output_type": "display_data"
    }
   ],
   "source": [
    "plt.figure(figsize=(10,8))\n",
    "plt.title(\"Types of wine variety\")\n",
    "sns.countplot(y=train['variety'])"
   ]
  },
  {
   "cell_type": "code",
   "execution_count": 87,
   "metadata": {
    "ExecuteTime": {
     "end_time": "2020-05-09T16:07:54.663684Z",
     "start_time": "2020-05-09T16:07:54.429574Z"
    }
   },
   "outputs": [
    {
     "data": {
      "text/plain": [
       "<matplotlib.axes._subplots.AxesSubplot at 0x7f5bec839048>"
      ]
     },
     "execution_count": 87,
     "metadata": {},
     "output_type": "execute_result"
    },
    {
     "data": {
      "image/png": "[encoded data removed]",
      "text/plain": [
       "<Figure size 720x720 with 1 Axes>"
      ]
     },
     "metadata": {},
     "output_type": "display_data"
    }
   ],
   "source": [
    "plt.figure(figsize=(10,10))\n",
    "plt.title('% of points belonging to each type of variety in the train set')\n",
    "train['variety'].value_counts().plot.pie()"
   ]
  },
  {
   "cell_type": "markdown",
   "metadata": {
    "ExecuteTime": {
     "end_time": "2020-05-09T16:09:51.499111Z",
     "start_time": "2020-05-09T16:09:51.493885Z"
    }
   },
   "source": [
    "<h3 style =\"color:darkred;\">3.2 Multivariate analysis</h3>"
   ]
  },
  {
   "cell_type": "markdown",
   "metadata": {
    "ExecuteTime": {
     "end_time": "2020-05-09T16:10:13.333925Z",
     "start_time": "2020-05-09T16:10:13.324989Z"
    }
   },
   "source": [
    "<h4 style =\"color:crimson;\">3.2.1 Price of wine and its origin country</h4>"
   ]
  },
  {
   "cell_type": "code",
   "execution_count": 111,
   "metadata": {
    "ExecuteTime": {
     "end_time": "2020-05-09T16:22:56.302368Z",
     "start_time": "2020-05-09T16:22:54.132934Z"
    }
   },
   "outputs": [
    {
     "data": {
      "text/plain": [
       "<matplotlib.axes._subplots.AxesSubplot at 0x7f5bef01ce80>"
      ]
     },
     "execution_count": 111,
     "metadata": {},
     "output_type": "execute_result"
    },
    {
     "data": {
      "image/png": "[encoded data removed]",
      "text/plain": [
       "<Figure size 720x720 with 1 Axes>"
      ]
     },
     "metadata": {
      "needs_background": "light"
     },
     "output_type": "display_data"
    }
   ],
   "source": [
    "plt.figure(figsize=(10,10))\n",
    "plt.title('price of wine and its origin country')\n",
    "sns.barplot(y=train['country'],x=train['price'])"
   ]
  },
  {
   "cell_type": "markdown",
   "metadata": {
    "ExecuteTime": {
     "end_time": "2020-05-09T16:21:37.053271Z",
     "start_time": "2020-05-09T16:21:37.037902Z"
    }
   },
   "source": [
    "<h4 style =\"color:crimson;\">3.2.2 Price of wine and its specific growing place</h4>"
   ]
  },
  {
   "cell_type": "code",
   "execution_count": 112,
   "metadata": {
    "ExecuteTime": {
     "end_time": "2020-05-09T16:23:07.222130Z",
     "start_time": "2020-05-09T16:23:06.171762Z"
    }
   },
   "outputs": [
    {
     "data": {
      "text/plain": [
       "<matplotlib.axes._subplots.AxesSubplot at 0x7f5bedeb3978>"
      ]
     },
     "execution_count": 112,
     "metadata": {},
     "output_type": "execute_result"
    },
    {
     "data": {
      "image/png": "[encoded data removed]",
      "text/plain": [
       "<Figure size 720x720 with 1 Axes>"
      ]
     },
     "metadata": {
      "needs_background": "light"
     },
     "output_type": "display_data"
    }
   ],
   "source": [
    "plt.figure(figsize=(10,10))\n",
    "plt.title('price of wine and its origin country')\n",
    "sns.barplot(y=train['region_2'],x=train['price'])"
   ]
  },
  {
   "cell_type": "markdown",
   "metadata": {
    "ExecuteTime": {
     "end_time": "2020-05-09T16:45:27.646650Z",
     "start_time": "2020-05-09T16:45:27.642636Z"
    }
   },
   "source": [
    "<h4 style =\"color:crimson;\">3.2.3 Countries and their wine exports</h4>"
   ]
  },
  {
   "cell_type": "code",
   "execution_count": 212,
   "metadata": {
    "ExecuteTime": {
     "end_time": "2020-05-09T17:19:27.866404Z",
     "start_time": "2020-05-09T17:19:27.547866Z"
    },
    "scrolled": false
   },
   "outputs": [],
   "source": [
    "country_values = train['country'].unique()\n",
    "temp={}\n",
    "for i in country_values:\n",
    "    temp[i] = list(np.unique(train[train.country==i].variety))"
   ]
  },
  {
   "cell_type": "markdown",
   "metadata": {
    "ExecuteTime": {
     "end_time": "2020-05-09T17:20:31.354712Z",
     "start_time": "2020-05-09T17:20:31.349664Z"
    }
   },
   "source": [
    "<h3 style =\"color:darkred;\">3.3 Analyzing text features</h3>"
   ]
  },
  {
   "cell_type": "markdown",
   "metadata": {},
   "source": [
    "<h4 style =\"color:crimson;\">3.3.1 Analyzing review title</h4>"
   ]
  },
  {
   "cell_type": "code",
   "execution_count": 214,
   "metadata": {
    "ExecuteTime": {
     "end_time": "2020-05-09T17:21:42.943307Z",
     "start_time": "2020-05-09T17:21:42.844472Z"
    }
   },
   "outputs": [
    {
     "data": {
      "text/plain": [
       "count                                                 82657\n",
       "unique                                                76983\n",
       "top       Gloria Ferrer NV Sonoma Brut Sparkling (Sonoma...\n",
       "freq                                                      8\n",
       "Name: review_title, dtype: object"
      ]
     },
     "execution_count": 214,
     "metadata": {},
     "output_type": "execute_result"
    }
   ],
   "source": [
    "train['review_title'].describe()"
   ]
  },
  {
   "cell_type": "code",
   "execution_count": 216,
   "metadata": {
    "ExecuteTime": {
     "end_time": "2020-05-09T17:22:41.883622Z",
     "start_time": "2020-05-09T17:22:41.815930Z"
    }
   },
   "outputs": [
    {
     "data": {
      "text/plain": [
       "Gloria Ferrer NV Sonoma Brut Sparkling (Sonoma County)                8\n",
       "Korbel NV Brut Sparkling (California)                                 8\n",
       "Segura Viudas NV Extra Dry Sparkling (Cava)                           7\n",
       "Ruinart NV Brut Rosé  (Champagne)                                     7\n",
       "Gloria Ferrer NV Blanc de Noirs Sparkling (Carneros)                  7\n",
       "Heidsieck & Co Monopole NV Blue Top Brut  (Champagne)                 5\n",
       "Jacquart NV Brut Mosaïque  (Champagne)                                5\n",
       "J. Dumangin Fils NV Le Rosé Premier Cru Brut  (Champagne)             5\n",
       "J Vineyards & Winery NV Brut Rosé Sparkling (Russian River Valley)    5\n",
       "Mailly Grand Cru NV Délice Demi-Sec  (Champagne)                      5\n",
       "Pierre Sparr NV Brut Réserve Sparkling (Crémant d'Alsace)             5\n",
       "Mailly Grand Cru NV Blanc de Noirs Brut Pinot Noir (Champagne)        5\n",
       "Bailly-Lapierre NV Brut  (Crémant de Bourgogne)                       5\n",
       "Boizel NV Brut Réserve  (Champagne)                                   5\n",
       "Segura Viudas NV Aria Estate Extra Dry Sparkling (Cava)               5\n",
       "Roederer Estate NV Brut Rosé Sparkling (Anderson Valley)              5\n",
       "G. H. Mumm NV Cordon Rouge Brut  (Champagne)                          5\n",
       "Korbel NV Sweet Rosé Sparkling (California)                           4\n",
       "A.R. Lenoble  NV Intense Brut  (Champagne)                            4\n",
       "Nicolas Feuillatte NV Brut Rosé  (Champagne)                          4\n",
       "Charles Heidsieck NV Brut Réserve  (Champagne)                        4\n",
       "Breathless NV Brut Sparkling (North Coast)                            4\n",
       "Ferrari NV Rosé Sparkling (Trento)                                    4\n",
       "Lanson NV Black Label Brut  (Champagne)                               4\n",
       "Henri Abele NV Brut  (Champagne)                                      4\n",
       "Louis Roederer NV Brut Premier  (Champagne)                           4\n",
       "Segura Viudas NV Aria Estate Brut Sparkling (Cava)                    4\n",
       "Thiénot NV Brut  (Champagne)                                          4\n",
       "Mumm Napa NV Brut Rosé Sparkling (Napa Valley)                        4\n",
       "Billecart-Salmon NV Brut Rosé  (Champagne)                            4\n",
       "Name: review_title, dtype: int64"
      ]
     },
     "execution_count": 216,
     "metadata": {},
     "output_type": "execute_result"
    }
   ],
   "source": [
    "train['review_title'].value_counts()[:30]"
   ]
  },
  {
   "cell_type": "markdown",
   "metadata": {},
   "source": [
    "<h4 style =\"color:crimson;\">3.3.1 Analyzing review description</h4>"
   ]
  },
  {
   "cell_type": "code",
   "execution_count": 217,
   "metadata": {
    "ExecuteTime": {
     "end_time": "2020-05-09T17:24:29.634490Z",
     "start_time": "2020-05-09T17:24:29.526128Z"
    }
   },
   "outputs": [
    {
     "data": {
      "text/plain": [
       "count                                                 82657\n",
       "unique                                                77628\n",
       "top       From the home estate of wine academic and guru...\n",
       "freq                                                      2\n",
       "Name: review_description, dtype: object"
      ]
     },
     "execution_count": 217,
     "metadata": {},
     "output_type": "execute_result"
    }
   ],
   "source": [
    "train['review_description'].describe()"
   ]
  },
  {
   "cell_type": "markdown",
   "metadata": {},
   "source": [
    "<h2 style =\"color:maroon;\">4. Data pre-prerocessing</h2>"
   ]
  }
 ],
 "metadata": {
  "kernelspec": {
   "display_name": "Python 3",
   "language": "python",
   "name": "python3"
  },
  "language_info": {
   "codemirror_mode": {
    "name": "ipython",
    "version": 3
   },
   "file_extension": ".py",
   "mimetype": "text/x-python",
   "name": "python",
   "nbconvert_exporter": "python",
   "pygments_lexer": "ipython3",
   "version": "3.6.10"
  }
 },
 "nbformat": 4,
 "nbformat_minor": 4
}
